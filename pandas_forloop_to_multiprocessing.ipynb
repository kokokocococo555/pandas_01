{
 "cells": [
  {
   "cell_type": "markdown",
   "metadata": {},
   "source": [
    "# 準備"
   ]
  },
  {
   "cell_type": "code",
   "execution_count": 1,
   "metadata": {},
   "outputs": [],
   "source": [
    "# ライブラリの読み込み\n",
    "import numpy as np\n",
    "import pandas as pd\n",
    "import random\n",
    "import pickle\n",
    "import multiprocessing\n",
    "from datetime import datetime\n",
    "from datetime import timedelta\n",
    "from time import time"
   ]
  },
  {
   "cell_type": "code",
   "execution_count": 5,
   "metadata": {},
   "outputs": [],
   "source": [
    "# デモデータ作成\n",
    "# ランダムなIDと日時\n",
    "# df_userは10,000行\n",
    "# df_logは100,000行\n",
    "\n",
    "random.seed(256)\n",
    "\n",
    "# ランダムID\n",
    "r1 = [random.randint(1, 10000) for i in range(10000)]\n",
    "r1.sort()\n",
    "r2 = [random.randint(1, 10000) for i in range(100000)]\n",
    "r2.sort()\n",
    "\n",
    "# ランダム日時\n",
    "now = datetime.now()\n",
    "datetime1 = [now-timedelta(random.randint(1, 1000)) for i in range(10000)]\n",
    "datetime2 = [now-timedelta(random.randint(1, 1000)) for i in range(100000)]\n",
    "\n",
    "# user\n",
    "df_user = pd.DataFrame({\n",
    "    \"userID\": r1,\n",
    "    \"trigger_dt\": datetime1\n",
    "})\n",
    "\n",
    "# log\n",
    "df_log = pd.DataFrame({\n",
    "    \"userID\": r2,\n",
    "    \"event_dt\": datetime2\n",
    "})"
   ]
  },
  {
   "cell_type": "code",
   "execution_count": 22,
   "metadata": {
    "scrolled": true
   },
   "outputs": [
    {
     "data": {
      "text/html": [
       "<div>\n",
       "<style scoped>\n",
       "    .dataframe tbody tr th:only-of-type {\n",
       "        vertical-align: middle;\n",
       "    }\n",
       "\n",
       "    .dataframe tbody tr th {\n",
       "        vertical-align: top;\n",
       "    }\n",
       "\n",
       "    .dataframe thead th {\n",
       "        text-align: right;\n",
       "    }\n",
       "</style>\n",
       "<table border=\"1\" class=\"dataframe\">\n",
       "  <thead>\n",
       "    <tr style=\"text-align: right;\">\n",
       "      <th></th>\n",
       "      <th>userID</th>\n",
       "      <th>trigger_dt</th>\n",
       "      <th>event_cnt</th>\n",
       "    </tr>\n",
       "  </thead>\n",
       "  <tbody>\n",
       "    <tr>\n",
       "      <th>0</th>\n",
       "      <td>1</td>\n",
       "      <td>2018-11-01 14:12:11.353445</td>\n",
       "      <td>8.0</td>\n",
       "    </tr>\n",
       "    <tr>\n",
       "      <th>1</th>\n",
       "      <td>3</td>\n",
       "      <td>2018-11-18 14:12:11.353445</td>\n",
       "      <td>14.0</td>\n",
       "    </tr>\n",
       "    <tr>\n",
       "      <th>2</th>\n",
       "      <td>6</td>\n",
       "      <td>2018-07-30 14:12:11.353445</td>\n",
       "      <td>5.0</td>\n",
       "    </tr>\n",
       "    <tr>\n",
       "      <th>3</th>\n",
       "      <td>7</td>\n",
       "      <td>2018-01-19 14:12:11.353445</td>\n",
       "      <td>8.0</td>\n",
       "    </tr>\n",
       "    <tr>\n",
       "      <th>4</th>\n",
       "      <td>8</td>\n",
       "      <td>2016-11-22 14:12:11.353445</td>\n",
       "      <td>2.0</td>\n",
       "    </tr>\n",
       "  </tbody>\n",
       "</table>\n",
       "</div>"
      ],
      "text/plain": [
       "   userID                 trigger_dt  event_cnt\n",
       "0       1 2018-11-01 14:12:11.353445        8.0\n",
       "1       3 2018-11-18 14:12:11.353445       14.0\n",
       "2       6 2018-07-30 14:12:11.353445        5.0\n",
       "3       7 2018-01-19 14:12:11.353445        8.0\n",
       "4       8 2016-11-22 14:12:11.353445        2.0"
      ]
     },
     "execution_count": 22,
     "metadata": {},
     "output_type": "execute_result"
    }
   ],
   "source": [
    "df_user.head()"
   ]
  },
  {
   "cell_type": "code",
   "execution_count": 23,
   "metadata": {
    "scrolled": true
   },
   "outputs": [
    {
     "data": {
      "text/html": [
       "<div>\n",
       "<style scoped>\n",
       "    .dataframe tbody tr th:only-of-type {\n",
       "        vertical-align: middle;\n",
       "    }\n",
       "\n",
       "    .dataframe tbody tr th {\n",
       "        vertical-align: top;\n",
       "    }\n",
       "\n",
       "    .dataframe thead th {\n",
       "        text-align: right;\n",
       "    }\n",
       "</style>\n",
       "<table border=\"1\" class=\"dataframe\">\n",
       "  <thead>\n",
       "    <tr style=\"text-align: right;\">\n",
       "      <th></th>\n",
       "      <th>userID</th>\n",
       "      <th>event_dt</th>\n",
       "    </tr>\n",
       "  </thead>\n",
       "  <tbody>\n",
       "    <tr>\n",
       "      <th>0</th>\n",
       "      <td>1</td>\n",
       "      <td>2016-11-27 14:12:11.353445</td>\n",
       "    </tr>\n",
       "    <tr>\n",
       "      <th>1</th>\n",
       "      <td>1</td>\n",
       "      <td>2017-11-03 14:12:11.353445</td>\n",
       "    </tr>\n",
       "    <tr>\n",
       "      <th>2</th>\n",
       "      <td>1</td>\n",
       "      <td>2017-06-11 14:12:11.353445</td>\n",
       "    </tr>\n",
       "    <tr>\n",
       "      <th>3</th>\n",
       "      <td>1</td>\n",
       "      <td>2017-05-17 14:12:11.353445</td>\n",
       "    </tr>\n",
       "    <tr>\n",
       "      <th>4</th>\n",
       "      <td>1</td>\n",
       "      <td>2018-08-21 14:12:11.353445</td>\n",
       "    </tr>\n",
       "  </tbody>\n",
       "</table>\n",
       "</div>"
      ],
      "text/plain": [
       "   userID                   event_dt\n",
       "0       1 2016-11-27 14:12:11.353445\n",
       "1       1 2017-11-03 14:12:11.353445\n",
       "2       1 2017-06-11 14:12:11.353445\n",
       "3       1 2017-05-17 14:12:11.353445\n",
       "4       1 2018-08-21 14:12:11.353445"
      ]
     },
     "execution_count": 23,
     "metadata": {},
     "output_type": "execute_result"
    }
   ],
   "source": [
    "df_log.head()"
   ]
  },
  {
   "cell_type": "markdown",
   "metadata": {},
   "source": [
    "# 時間短縮前"
   ]
  },
  {
   "cell_type": "code",
   "execution_count": 8,
   "metadata": {},
   "outputs": [
    {
     "name": "stderr",
     "output_type": "stream",
     "text": [
      "/usr/local/lib/python3.6/dist-packages/pandas/core/indexing.py:190: SettingWithCopyWarning: \n",
      "A value is trying to be set on a copy of a slice from a DataFrame\n",
      "\n",
      "See the caveats in the documentation: http://pandas.pydata.org/pandas-docs/stable/indexing.html#indexing-view-versus-copy\n",
      "  self._setitem_with_indexer(indexer, value)\n"
     ]
    },
    {
     "name": "stdout",
     "output_type": "stream",
     "text": [
      "0...time: 0.06981420516967773\n",
      "1000...time: 56.50749945640564\n",
      "2000...time: 113.47105884552002\n",
      "3000...time: 168.21672081947327\n",
      "4000...time: 222.70379543304443\n",
      "5000...time: 278.85570669174194\n",
      "6000...time: 334.8989362716675\n",
      "7000...time: 390.94702911376953\n",
      "8000...time: 447.9054775238037\n",
      "9000...time: 506.94193148612976\n",
      "process_finish: 565.0461707115173\n"
     ]
    }
   ],
   "source": [
    "# before\n",
    "# 結果を代入する列を作成\n",
    "df_user[\"event_cnt\"] = np.nan\n",
    "\n",
    "# メイン処理\n",
    "t1 =time()\n",
    "for i in range(df_user.shape[0]):\n",
    "    # df_userの対象行のuserIDを取得\n",
    "    user_id = df_user[\"userID\"].iloc[i]\n",
    "    # df_userの対象行のuserIDと同じか否かのTrue, Falseを作成\n",
    "    user_in_log = df_log[\"userID\"]==user_id\n",
    "    # df_userの対象行のユーザーかつ対象行のtrigger以前に起こったeventの数を代入\n",
    "    df_user[\"event_cnt\"].iloc[i] = df_log[(user_in_log) & (df_log[\"event_dt\"]<df_user[\"trigger_dt\"].iloc[i])].shape[0]\n",
    "\n",
    "    # 進捗を表示\n",
    "    if i%1000 == 0:\n",
    "        print(\"{}...time: {}\".format(i, time()-t1))\n",
    "\n",
    "# かかった時間を表示\n",
    "print(\"process_finish: {}\".format(time()-t1))\n",
    "\n",
    "# 結果を保存\n",
    "with open(\"result.pickle\", mode='wb') as f:\n",
    "    pickle.dump(df_user, f)\n"
   ]
  },
  {
   "cell_type": "markdown",
   "metadata": {},
   "source": [
    "## 結果確認"
   ]
  },
  {
   "cell_type": "code",
   "execution_count": 24,
   "metadata": {
    "scrolled": true
   },
   "outputs": [
    {
     "data": {
      "text/html": [
       "<div>\n",
       "<style scoped>\n",
       "    .dataframe tbody tr th:only-of-type {\n",
       "        vertical-align: middle;\n",
       "    }\n",
       "\n",
       "    .dataframe tbody tr th {\n",
       "        vertical-align: top;\n",
       "    }\n",
       "\n",
       "    .dataframe thead th {\n",
       "        text-align: right;\n",
       "    }\n",
       "</style>\n",
       "<table border=\"1\" class=\"dataframe\">\n",
       "  <thead>\n",
       "    <tr style=\"text-align: right;\">\n",
       "      <th></th>\n",
       "      <th>userID</th>\n",
       "      <th>trigger_dt</th>\n",
       "      <th>event_cnt</th>\n",
       "    </tr>\n",
       "  </thead>\n",
       "  <tbody>\n",
       "    <tr>\n",
       "      <th>0</th>\n",
       "      <td>1</td>\n",
       "      <td>2018-11-01 14:12:11.353445</td>\n",
       "      <td>8.0</td>\n",
       "    </tr>\n",
       "    <tr>\n",
       "      <th>1</th>\n",
       "      <td>3</td>\n",
       "      <td>2018-11-18 14:12:11.353445</td>\n",
       "      <td>14.0</td>\n",
       "    </tr>\n",
       "    <tr>\n",
       "      <th>2</th>\n",
       "      <td>6</td>\n",
       "      <td>2018-07-30 14:12:11.353445</td>\n",
       "      <td>5.0</td>\n",
       "    </tr>\n",
       "    <tr>\n",
       "      <th>3</th>\n",
       "      <td>7</td>\n",
       "      <td>2018-01-19 14:12:11.353445</td>\n",
       "      <td>8.0</td>\n",
       "    </tr>\n",
       "    <tr>\n",
       "      <th>4</th>\n",
       "      <td>8</td>\n",
       "      <td>2016-11-22 14:12:11.353445</td>\n",
       "      <td>2.0</td>\n",
       "    </tr>\n",
       "  </tbody>\n",
       "</table>\n",
       "</div>"
      ],
      "text/plain": [
       "   userID                 trigger_dt  event_cnt\n",
       "0       1 2018-11-01 14:12:11.353445        8.0\n",
       "1       3 2018-11-18 14:12:11.353445       14.0\n",
       "2       6 2018-07-30 14:12:11.353445        5.0\n",
       "3       7 2018-01-19 14:12:11.353445        8.0\n",
       "4       8 2016-11-22 14:12:11.353445        2.0"
      ]
     },
     "execution_count": 24,
     "metadata": {},
     "output_type": "execute_result"
    }
   ],
   "source": [
    "df_user.head()"
   ]
  },
  {
   "cell_type": "code",
   "execution_count": 10,
   "metadata": {},
   "outputs": [
    {
     "data": {
      "text/plain": [
       "userID                                 1\n",
       "trigger_dt    2018-11-01 14:12:11.353445\n",
       "event_cnt                              8\n",
       "Name: 0, dtype: object"
      ]
     },
     "execution_count": 10,
     "metadata": {},
     "output_type": "execute_result"
    }
   ],
   "source": [
    "# ある行を抜き出し日時と代入結果を確認\n",
    "i = 0\n",
    "user_id = df_user[\"userID\"].iloc[i]\n",
    "df_user.iloc[i]"
   ]
  },
  {
   "cell_type": "code",
   "execution_count": 11,
   "metadata": {},
   "outputs": [
    {
     "data": {
      "text/html": [
       "<div>\n",
       "<style scoped>\n",
       "    .dataframe tbody tr th:only-of-type {\n",
       "        vertical-align: middle;\n",
       "    }\n",
       "\n",
       "    .dataframe tbody tr th {\n",
       "        vertical-align: top;\n",
       "    }\n",
       "\n",
       "    .dataframe thead th {\n",
       "        text-align: right;\n",
       "    }\n",
       "</style>\n",
       "<table border=\"1\" class=\"dataframe\">\n",
       "  <thead>\n",
       "    <tr style=\"text-align: right;\">\n",
       "      <th></th>\n",
       "      <th>userID</th>\n",
       "      <th>event_dt</th>\n",
       "    </tr>\n",
       "  </thead>\n",
       "  <tbody>\n",
       "    <tr>\n",
       "      <th>8</th>\n",
       "      <td>1</td>\n",
       "      <td>2016-08-29 14:12:11.353445</td>\n",
       "    </tr>\n",
       "    <tr>\n",
       "      <th>0</th>\n",
       "      <td>1</td>\n",
       "      <td>2016-11-27 14:12:11.353445</td>\n",
       "    </tr>\n",
       "    <tr>\n",
       "      <th>3</th>\n",
       "      <td>1</td>\n",
       "      <td>2017-05-17 14:12:11.353445</td>\n",
       "    </tr>\n",
       "    <tr>\n",
       "      <th>5</th>\n",
       "      <td>1</td>\n",
       "      <td>2017-06-03 14:12:11.353445</td>\n",
       "    </tr>\n",
       "    <tr>\n",
       "      <th>2</th>\n",
       "      <td>1</td>\n",
       "      <td>2017-06-11 14:12:11.353445</td>\n",
       "    </tr>\n",
       "    <tr>\n",
       "      <th>1</th>\n",
       "      <td>1</td>\n",
       "      <td>2017-11-03 14:12:11.353445</td>\n",
       "    </tr>\n",
       "    <tr>\n",
       "      <th>7</th>\n",
       "      <td>1</td>\n",
       "      <td>2017-12-24 14:12:11.353445</td>\n",
       "    </tr>\n",
       "    <tr>\n",
       "      <th>4</th>\n",
       "      <td>1</td>\n",
       "      <td>2018-08-21 14:12:11.353445</td>\n",
       "    </tr>\n",
       "    <tr>\n",
       "      <th>6</th>\n",
       "      <td>1</td>\n",
       "      <td>2019-04-07 14:12:11.353445</td>\n",
       "    </tr>\n",
       "  </tbody>\n",
       "</table>\n",
       "</div>"
      ],
      "text/plain": [
       "   userID                   event_dt\n",
       "8       1 2016-08-29 14:12:11.353445\n",
       "0       1 2016-11-27 14:12:11.353445\n",
       "3       1 2017-05-17 14:12:11.353445\n",
       "5       1 2017-06-03 14:12:11.353445\n",
       "2       1 2017-06-11 14:12:11.353445\n",
       "1       1 2017-11-03 14:12:11.353445\n",
       "7       1 2017-12-24 14:12:11.353445\n",
       "4       1 2018-08-21 14:12:11.353445\n",
       "6       1 2019-04-07 14:12:11.353445"
      ]
     },
     "execution_count": 11,
     "metadata": {},
     "output_type": "execute_result"
    }
   ],
   "source": [
    "# 対象行のuserIDのlogの中でtrigger日時以前の行を数える\n",
    "# 代入結果と一致するか確認\n",
    "df_log[df_log[\"userID\"]==user_id].sort_values(\"event_dt\")"
   ]
  },
  {
   "cell_type": "markdown",
   "metadata": {},
   "source": [
    "# 時間短縮後"
   ]
  },
  {
   "cell_type": "code",
   "execution_count": 16,
   "metadata": {},
   "outputs": [
    {
     "name": "stdout",
     "output_type": "stream",
     "text": [
      "process_0-714: 0...time: 0.011498212814331055\n",
      "process_4998-5712: 5000...time: 0.01985907554626465\n",
      "process_9996-10000_finish: 0.02092766761779785\n",
      "process_2856-3570: 3000...time: 0.3586902618408203\n",
      "process_7854-8568: 8000...time: 0.3677937984466553\n",
      "process_714-1428: 1000...time: 0.49004507064819336\n",
      "process_5712-6426: 6000...time: 0.6779203414916992\n",
      "process_3570-4284: 4000...time: 0.8131577968597412\n",
      "process_6426-7140: 7000...time: 0.964698076248169\n",
      "process_8568-9282: 9000...time: 1.0305662155151367\n",
      "process_6426-7140_finish: 1.1923942565917969\n",
      "process_9282-9996_finish: 1.3662109375\n",
      "process_1428-2142: 2000...time: 1.3731131553649902\n",
      "process_8568-9282_finish: 1.4752998352050781\n",
      "process_3570-4284_finish: 1.4812278747558594\n",
      "process_714-1428_finish: 1.488349437713623\n",
      "process_0-714_finish: 1.4931654930114746\n",
      "process_4284-4998_finish: 1.5344908237457275\n",
      "process_7854-8568_finish: 1.5600390434265137\n",
      "process_2142-2856_finish: 1.575411319732666\n",
      "process_7140-7854_finish: 1.5844135284423828\n",
      "process_5712-6426_finish: 1.6384737491607666\n",
      "process_2856-3570_finish: 1.6412739753723145\n",
      "process_1428-2142_finish: 1.646019697189331\n",
      "process_4998-5712_finish: 1.6478042602539062\n"
     ]
    }
   ],
   "source": [
    "# after\n",
    "# 結果を代入する列を作成\n",
    "df_user[\"event_cnt\"] = np.nan\n",
    "\n",
    "# 前もってSeriesを抽出しておく\n",
    "s_user_userID = df_user[\"userID\"]\n",
    "s_user_dt = df_user[\"trigger_dt\"]\n",
    "s_log_userID = df_log[\"userID\"]\n",
    "\n",
    "# multiprocessing用にindexをd分割したリストを作成\n",
    "d = 15\n",
    "x = int(np.linspace(0, df_user.shape[0], d)[1])\n",
    "id_lists = [[i*x, (i+1)*x] for i in range(d-1)]\n",
    "id_lists.append([id_lists[-1][-1], df_user.shape[0]])\n",
    "\n",
    "# メイン処理\n",
    "# multiprocessing用に処理を関数化\n",
    "def event_cnt(id_list):\n",
    "    t1 =time()\n",
    "    for i in range(id_list[0], id_list[1]):\n",
    "        # df_userの対象行のuserIDを取得\n",
    "        user_id = s_user_userID.iloc[i]\n",
    "        # df_userの対象行のuserIDと同じか否かのTrue, Falseを作成\n",
    "        user_in_log = s_log_userID==user_id\n",
    "        # df_logから対象userの行だけ抽出しておく\n",
    "        df_1 = df_log[user_in_log]\n",
    "        # 対象userの行がdf_logに存在する場合のみ代入を行う\n",
    "        if df_1.shape[0]>0:\n",
    "            # df_userの対象行のユーザーかつ対象行のtrigger以前に起こったeventの数を代入\n",
    "            df_user.at[i, \"event_cnt\"] = len(df_1[df_1[\"event_dt\"]<s_user_dt.iloc[i]])\n",
    "            \n",
    "        # 進捗を表示\n",
    "        if i%1000 == 0:\n",
    "            print(\"process_{}-{}: {}...time: {}\".format(id_list[0], id_list[1], i, time()-t1))\n",
    "\n",
    "    # かかった時間を表示\n",
    "    print(\"process_{}-{}_finish: {}\".format(id_list[0], id_list[1], time()-t1))\n",
    "\n",
    "    # 結果を保存\n",
    "    with open('result_{}-{}.pickle'.format(id_list[0], id_list[1]), mode='wb') as f:\n",
    "        pickle.dump(df_user, f)\n",
    "\n",
    "# 並列処理実行\n",
    "with multiprocessing.Pool(d) as pool:\n",
    "    pool.map(event_cnt, id_lists)\n"
   ]
  },
  {
   "cell_type": "markdown",
   "metadata": {},
   "source": [
    "## 結果統合"
   ]
  },
  {
   "cell_type": "code",
   "execution_count": 17,
   "metadata": {},
   "outputs": [],
   "source": [
    "# multiprocessing用にindexをd分割したリストを作成\n",
    "d = 15\n",
    "x = int(np.linspace(0, df_user.shape[0], d)[1])\n",
    "id_lists = [[i*x, (i+1)*x] for i in range(d-1)]\n",
    "id_lists.append([id_lists[-1][-1], df_user.shape[0]])"
   ]
  },
  {
   "cell_type": "code",
   "execution_count": 18,
   "metadata": {},
   "outputs": [
    {
     "name": "stderr",
     "output_type": "stream",
     "text": [
      "/usr/local/lib/python3.6/dist-packages/pandas/core/indexing.py:190: SettingWithCopyWarning: \n",
      "A value is trying to be set on a copy of a slice from a DataFrame\n",
      "\n",
      "See the caveats in the documentation: http://pandas.pydata.org/pandas-docs/stable/indexing.html#indexing-view-versus-copy\n",
      "  self._setitem_with_indexer(indexer, value)\n"
     ]
    }
   ],
   "source": [
    "# 読み込み・統合\n",
    "id_list = id_lists[0]\n",
    "with open('result_{}-{}.pickle'.format(id_list[0], id_list[1]), mode='rb') as f:\n",
    "    df_user = pickle.load(f)\n",
    "\n",
    "for id_list in id_lists[1:]:\n",
    "    with open('result_{}-{}.pickle'.format(id_list[0], id_list[1]), mode='rb') as f:\n",
    "        df_user_tmp = pickle.load(f)\n",
    "        \n",
    "    # 結果を統合\n",
    "    df_user[\"event_cnt\"].iloc[id_list[0]:id_list[1]] = df_user_tmp[\"event_cnt\"].iloc[id_list[0]:id_list[1]]"
   ]
  },
  {
   "cell_type": "markdown",
   "metadata": {},
   "source": [
    "## 結果確認"
   ]
  },
  {
   "cell_type": "code",
   "execution_count": 25,
   "metadata": {
    "scrolled": true
   },
   "outputs": [
    {
     "data": {
      "text/html": [
       "<div>\n",
       "<style scoped>\n",
       "    .dataframe tbody tr th:only-of-type {\n",
       "        vertical-align: middle;\n",
       "    }\n",
       "\n",
       "    .dataframe tbody tr th {\n",
       "        vertical-align: top;\n",
       "    }\n",
       "\n",
       "    .dataframe thead th {\n",
       "        text-align: right;\n",
       "    }\n",
       "</style>\n",
       "<table border=\"1\" class=\"dataframe\">\n",
       "  <thead>\n",
       "    <tr style=\"text-align: right;\">\n",
       "      <th></th>\n",
       "      <th>userID</th>\n",
       "      <th>trigger_dt</th>\n",
       "      <th>event_cnt</th>\n",
       "    </tr>\n",
       "  </thead>\n",
       "  <tbody>\n",
       "    <tr>\n",
       "      <th>0</th>\n",
       "      <td>1</td>\n",
       "      <td>2018-11-01 14:12:11.353445</td>\n",
       "      <td>8.0</td>\n",
       "    </tr>\n",
       "    <tr>\n",
       "      <th>1</th>\n",
       "      <td>3</td>\n",
       "      <td>2018-11-18 14:12:11.353445</td>\n",
       "      <td>14.0</td>\n",
       "    </tr>\n",
       "    <tr>\n",
       "      <th>2</th>\n",
       "      <td>6</td>\n",
       "      <td>2018-07-30 14:12:11.353445</td>\n",
       "      <td>5.0</td>\n",
       "    </tr>\n",
       "    <tr>\n",
       "      <th>3</th>\n",
       "      <td>7</td>\n",
       "      <td>2018-01-19 14:12:11.353445</td>\n",
       "      <td>8.0</td>\n",
       "    </tr>\n",
       "    <tr>\n",
       "      <th>4</th>\n",
       "      <td>8</td>\n",
       "      <td>2016-11-22 14:12:11.353445</td>\n",
       "      <td>2.0</td>\n",
       "    </tr>\n",
       "  </tbody>\n",
       "</table>\n",
       "</div>"
      ],
      "text/plain": [
       "   userID                 trigger_dt  event_cnt\n",
       "0       1 2018-11-01 14:12:11.353445        8.0\n",
       "1       3 2018-11-18 14:12:11.353445       14.0\n",
       "2       6 2018-07-30 14:12:11.353445        5.0\n",
       "3       7 2018-01-19 14:12:11.353445        8.0\n",
       "4       8 2016-11-22 14:12:11.353445        2.0"
      ]
     },
     "execution_count": 25,
     "metadata": {},
     "output_type": "execute_result"
    }
   ],
   "source": [
    "df_user.head()"
   ]
  },
  {
   "cell_type": "code",
   "execution_count": 20,
   "metadata": {},
   "outputs": [
    {
     "data": {
      "text/plain": [
       "userID                                 1\n",
       "trigger_dt    2018-11-01 14:12:11.353445\n",
       "event_cnt                              8\n",
       "Name: 0, dtype: object"
      ]
     },
     "execution_count": 20,
     "metadata": {},
     "output_type": "execute_result"
    }
   ],
   "source": [
    "# ある行を抜き出し日時と代入結果を確認\n",
    "i = 0\n",
    "user_id = df_user[\"userID\"].iloc[i]\n",
    "df_user.iloc[i]"
   ]
  },
  {
   "cell_type": "code",
   "execution_count": 21,
   "metadata": {},
   "outputs": [
    {
     "data": {
      "text/html": [
       "<div>\n",
       "<style scoped>\n",
       "    .dataframe tbody tr th:only-of-type {\n",
       "        vertical-align: middle;\n",
       "    }\n",
       "\n",
       "    .dataframe tbody tr th {\n",
       "        vertical-align: top;\n",
       "    }\n",
       "\n",
       "    .dataframe thead th {\n",
       "        text-align: right;\n",
       "    }\n",
       "</style>\n",
       "<table border=\"1\" class=\"dataframe\">\n",
       "  <thead>\n",
       "    <tr style=\"text-align: right;\">\n",
       "      <th></th>\n",
       "      <th>userID</th>\n",
       "      <th>event_dt</th>\n",
       "    </tr>\n",
       "  </thead>\n",
       "  <tbody>\n",
       "    <tr>\n",
       "      <th>8</th>\n",
       "      <td>1</td>\n",
       "      <td>2016-08-29 14:12:11.353445</td>\n",
       "    </tr>\n",
       "    <tr>\n",
       "      <th>0</th>\n",
       "      <td>1</td>\n",
       "      <td>2016-11-27 14:12:11.353445</td>\n",
       "    </tr>\n",
       "    <tr>\n",
       "      <th>3</th>\n",
       "      <td>1</td>\n",
       "      <td>2017-05-17 14:12:11.353445</td>\n",
       "    </tr>\n",
       "    <tr>\n",
       "      <th>5</th>\n",
       "      <td>1</td>\n",
       "      <td>2017-06-03 14:12:11.353445</td>\n",
       "    </tr>\n",
       "    <tr>\n",
       "      <th>2</th>\n",
       "      <td>1</td>\n",
       "      <td>2017-06-11 14:12:11.353445</td>\n",
       "    </tr>\n",
       "    <tr>\n",
       "      <th>1</th>\n",
       "      <td>1</td>\n",
       "      <td>2017-11-03 14:12:11.353445</td>\n",
       "    </tr>\n",
       "    <tr>\n",
       "      <th>7</th>\n",
       "      <td>1</td>\n",
       "      <td>2017-12-24 14:12:11.353445</td>\n",
       "    </tr>\n",
       "    <tr>\n",
       "      <th>4</th>\n",
       "      <td>1</td>\n",
       "      <td>2018-08-21 14:12:11.353445</td>\n",
       "    </tr>\n",
       "    <tr>\n",
       "      <th>6</th>\n",
       "      <td>1</td>\n",
       "      <td>2019-04-07 14:12:11.353445</td>\n",
       "    </tr>\n",
       "  </tbody>\n",
       "</table>\n",
       "</div>"
      ],
      "text/plain": [
       "   userID                   event_dt\n",
       "8       1 2016-08-29 14:12:11.353445\n",
       "0       1 2016-11-27 14:12:11.353445\n",
       "3       1 2017-05-17 14:12:11.353445\n",
       "5       1 2017-06-03 14:12:11.353445\n",
       "2       1 2017-06-11 14:12:11.353445\n",
       "1       1 2017-11-03 14:12:11.353445\n",
       "7       1 2017-12-24 14:12:11.353445\n",
       "4       1 2018-08-21 14:12:11.353445\n",
       "6       1 2019-04-07 14:12:11.353445"
      ]
     },
     "execution_count": 21,
     "metadata": {},
     "output_type": "execute_result"
    }
   ],
   "source": [
    "# 対象行のuserIDのlogの中でtrigger日時以前の行を数える\n",
    "# 代入結果と一致するか確認\n",
    "df_log[df_log[\"userID\"]==user_id].sort_values(\"event_dt\")"
   ]
  }
 ],
 "metadata": {
  "kernelspec": {
   "display_name": "Python 3",
   "language": "python",
   "name": "python3"
  },
  "language_info": {
   "codemirror_mode": {
    "name": "ipython",
    "version": 3
   },
   "file_extension": ".py",
   "mimetype": "text/x-python",
   "name": "python",
   "nbconvert_exporter": "python",
   "pygments_lexer": "ipython3",
   "version": "3.6.7"
  },
  "toc": {
   "base_numbering": 1,
   "nav_menu": {},
   "number_sections": true,
   "sideBar": true,
   "skip_h1_title": false,
   "title_cell": "Table of Contents",
   "title_sidebar": "Contents",
   "toc_cell": false,
   "toc_position": {},
   "toc_section_display": true,
   "toc_window_display": false
  }
 },
 "nbformat": 4,
 "nbformat_minor": 2
}
